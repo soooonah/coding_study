{
 "cells": [
  {
   "cell_type": "code",
   "execution_count": 3,
   "id": "672191d0",
   "metadata": {},
   "outputs": [
    {
     "name": "stdout",
     "output_type": "stream",
     "text": [
      "273\n",
      "hello python\n",
      "52 hello python 8\n",
      "2\n"
     ]
    }
   ],
   "source": [
    "print(273) #출력함수\n",
    "10+20+30 #output으로 값 출력\n",
    "\n",
    "# 표현식이 하나 이상씩 모이면 문장\n",
    "print('hello python')\n",
    "print(52,'hello python',5+3)\n",
    "\n",
    "# 문장이 모여 프로그램\n",
    "a=1;b=1;c=a+b \n",
    "print(c)"
   ]
  },
  {
   "cell_type": "code",
   "execution_count": 4,
   "id": "2590a2cf",
   "metadata": {},
   "outputs": [
    {
     "name": "stdout",
     "output_type": "stream",
     "text": [
      "['False', 'None', 'True', 'and', 'as', 'assert', 'async', 'await', 'break', 'class', 'continue', 'def', 'del', 'elif', 'else', 'except', 'finally', 'for', 'from', 'global', 'if', 'import', 'in', 'is', 'lambda', 'nonlocal', 'not', 'or', 'pass', 'raise', 'return', 'try', 'while', 'with', 'yield']\n",
      "35\n"
     ]
    }
   ],
   "source": [
    "#파이썬안에 있는 고유 변수 또는 함수\n",
    "import keyword\n",
    "print(keyword.kwlist)\n",
    "print(len(keyword.kwlist))"
   ]
  },
  {
   "cell_type": "code",
   "execution_count": 10,
   "id": "9ee849ab",
   "metadata": {},
   "outputs": [
    {
     "name": "stdout",
     "output_type": "stream",
     "text": [
      "122 \n",
      " 122 \n",
      " 122\n"
     ]
    }
   ],
   "source": [
    "a=0o172 #8진수 0o로 시작\n",
    "b=0x7a #16진수 0x로 시작\n",
    "c=0b1111010 #2진수 0b로 시작\n",
    "print(a,'\\n',b,'\\n',c)"
   ]
  },
  {
   "cell_type": "code",
   "execution_count": 11,
   "id": "7732f7d5",
   "metadata": {},
   "outputs": [
    {
     "name": "stdout",
     "output_type": "stream",
     "text": [
      "더하기 :  12 빼기 :  8 곱하기 :  20 나누기 :  5.0\n",
      "몫 :  5 나머지 :  0 제곱 :  8\n"
     ]
    }
   ],
   "source": [
    "a=10; b=2\n",
    "#사칙연산 / 다른 타입간 연산은 안됨\n",
    "c=a+b; d=a-b; e=a*b; f=a/b;\n",
    "g=a//b #몫\n",
    "h=a%b #나머지\n",
    "i=2**3 #제곱\n",
    "print('더하기 : ',c,'빼기 : ',d,'곱하기 : ',e,'나누기 : ',f)\n",
    "print('몫 : ',g,'나머지 : ',h,'제곱 : ',i)"
   ]
  },
  {
   "cell_type": "code",
   "execution_count": null,
   "id": "8e5b89a7",
   "metadata": {},
   "outputs": [],
   "source": [
    "# 파이썬에서 = 은 a=b에서 a는 b가 아니고 a에 b를 대입하는 것\n",
    "#a는 10->문자->100으로 값 대입\n",
    "a=10; a='문자'; a=100 \n",
    "\n",
    "#복합 대입 연산자\n",
    "# num값에 10을 더하고 10을 곱함\n",
    "num=10; num+=10; num*=10 "
   ]
  },
  {
   "cell_type": "code",
   "execution_count": null,
   "id": "40c9785e",
   "metadata": {},
   "outputs": [],
   "source": [
    "# 사용자 입력 input함수\n",
    "num=input('숫자를 입력하시오 : ')\n",
    "print(num) \n",
    "type(num) #문자열타입\n",
    "\n",
    "num1=input('숫자를 입력하시오 : ')\n",
    "print(num+num1) #문자열 더하기 사칙연산x\n",
    "\n",
    "#숫자형으로 바꾸는 방법\n",
    "num2=int(input('숫자를 입력하시오 : '))\n",
    "str(num2) #자료형으로 변환"
   ]
  },
  {
   "cell_type": "code",
   "execution_count": null,
   "id": "8cb492be",
   "metadata": {},
   "outputs": [],
   "source": [
    "# 문자열 : \"\"/''/\"\"\"\"\"\"/''''''\n",
    "p1=\"python's value is great\"\n",
    "p2='\"python is valuable\" he says'\n",
    "\n",
    "# 문자열 안에 \\n은 띄어쓰기\n",
    "p3=\"Once you study data analysis\\nYou need Python\" \n",
    "\n",
    "# ''''''/\"\"\"\"\"\" 안에 내용 그대로 출력\n",
    "p4='''Once you study data analysis\n",
    "You need Python'''"
   ]
  },
  {
   "cell_type": "code",
   "execution_count": null,
   "id": "1b7829dc",
   "metadata": {},
   "outputs": [],
   "source": [
    "# 문자열 연산\n",
    "a1 = 'Python'\n",
    "a2 = ' is easy to learn'\n",
    "print(a1 + a2) #Python is easy to learn\n",
    "print(a1 * 3)  #PythonPythonPython\n",
    "print(\"=\" * 20)#===================="
   ]
  },
  {
   "cell_type": "code",
   "execution_count": null,
   "id": "b7fa094b",
   "metadata": {},
   "outputs": [],
   "source": [
    "len(a1) #a1의 길이\n",
    "type(a1) #a1의 타입"
   ]
  },
  {
   "cell_type": "code",
   "execution_count": null,
   "id": "96ef4ce7",
   "metadata": {},
   "outputs": [],
   "source": [
    "# 자료형 - list / []\n",
    "list1=[1,2,3,4,5]\n",
    "list2=['a','b','c']\n",
    "list3=[1,'a',[2,'b',3],'c']\n",
    "\n",
    "# 슬라이싱\n",
    "list3[:] #전체 출력\n",
    "list3[2][2] #2번째리스트의 2번째 값\n",
    "list3[::2] #1,[2,b,3] 출력\n",
    "list3[3::-1] #3번째 값부터 앞으로 출력\n",
    "\n",
    "#수정 / 삭제\n",
    "del list1[1] #삭제\n",
    "list1[3]=10  #수정\n",
    "\n",
    "list4=list1+list2 #리스트 합치기\n",
    "list4[-1]=600 #-1은 끝 값을 말한다\n",
    "\n",
    "# 정렬\n",
    "list5=[1,3,4,2,5]\n",
    "list5.sort()\n",
    "\n",
    "# 내림차순\n",
    "list5.sort(reverse=True)\n",
    "list6=sorted(list5,reverse=1) #1은 True\n",
    "\n",
    "list5.reverse() #1,3,4,2,5 -> 5,2,4,3,1로 나옴 \n",
    "list5.count(5) #list5에 5의 개수\n",
    "\n",
    "# 리스트 확장\n",
    "list5.extend([4,5])\n",
    "# 리스트 추가\n",
    "list5.append(6)\n",
    "list5.insert(0,0) #0번째 인덱스에 0을 추가\n",
    "\n",
    "# 인덱스번호출력\n",
    "list5.index(4) #4에 대한 인덱스 번호"
   ]
  },
  {
   "cell_type": "code",
   "execution_count": null,
   "id": "a4d2d01c",
   "metadata": {},
   "outputs": [],
   "source": [
    "#자료형 - 튜플 / ()\n",
    "# 튜플의 요소 값은 변경할 수 없음\n",
    "# 프로그램에서 그 값이 항상 변하지 않아야되는 경우 사용\n",
    "tuple1=(1,2,3,4,5)\n",
    "tuple2 = ('a','b','c')\n",
    "tuple3 = (1,'a','abc',[1,2,3,4,5],['a','b','c'])\n",
    "tuple4=(1,) #1개의 요소만 가진 튜플\n",
    "# 슬라이싱\n",
    "tuple3[:]\n",
    "tuple3[2]\n",
    "tuple3[3][4]\n",
    "tuple3[4][1]"
   ]
  },
  {
   "cell_type": "code",
   "execution_count": null,
   "id": "69aa26b5",
   "metadata": {},
   "outputs": [],
   "source": [
    "# 자료형 - 사전(키와 값을 하나의 요소로 하는 순서가 없는 집합)\n",
    "d1 = {'a':1,'b':2,'c':3}\n",
    "d1['a']=4 #a라는 키의 값 변경\n",
    "d1.keys() #d1의 키 출력\n",
    "d1.values() #d1의 값 출력\n",
    "d1.items() #d1의 카와 값을 튜플로 출력"
   ]
  },
  {
   "cell_type": "code",
   "execution_count": null,
   "id": "8af781ad",
   "metadata": {},
   "outputs": [],
   "source": [
    "# 자료형 - 집합 / set(중복을 허용하지 않으며 순서가 없다)\n",
    "s1=set([1,2,3,4,5])\n",
    "s2=set('hello')\n",
    "print(s1) #{1,2,3,4,5} 출력\n",
    "print(s2) #{'o','h','l','e'} 출력\n",
    "\n",
    "# 집합은 인덱싱으로 값을 얻을 수 없으며 필요시 리스트나 튜플로 변환후 인덱싱\n",
    "l1=list(s1)\n",
    "print(l1[1])\n",
    "\n",
    "# 합집합\n",
    "list(s1|s2)\n",
    "\n",
    "# 교집합\n",
    "list(s1&s2)"
   ]
  },
  {
   "cell_type": "code",
   "execution_count": null,
   "id": "bbccedde",
   "metadata": {},
   "outputs": [],
   "source": [
    "# bool형\n",
    "a=True; b=False\n",
    "print(a==1) #True\n",
    "print(b!=0) #False\n",
    "\n",
    "x=1; y=2\n",
    "str1='abc'; str='python'\n",
    "print(x==y) #False\n",
    "print(x!=y) #True\n",
    "print(str1==str2) #False\n",
    "print(str2=='python') #True\n",
    "print(str1<str2) #True\n",
    "\n",
    "bool1=True; bool2=False; bool3=True; bool4=False\n",
    "print(bool1 and bool2) #False\n",
    "print(bool1 and bool3) #True\n",
    "print(bool2 or bool3) #True\n",
    "print(bool2 or bool4) #False\n",
    "print(not bool1) #False\n",
    "print(not bool2) #True"
   ]
  },
  {
   "cell_type": "code",
   "execution_count": null,
   "id": "fed083b8",
   "metadata": {},
   "outputs": [],
   "source": [
    "#들여쓰기\n",
    "li=['a','b','c']\n",
    "if 'a' in li:\n",
    "    print('a가 li에 있다')\n",
    "else:\n",
    "    print('a가 li에 없다')\n",
    "    \n",
    "# 문자열 포멧\n",
    "name='홍길동'\n",
    "age=20\n",
    "f'나의 이름은 {name}입니다. 나이는 {age}입니다'\n",
    "print('제이름은 '+name+'입니다 나이는 '+age+'입니다')\n",
    "\n",
    "#사전 포멧\n",
    "d={'name':'홍길동','age':30}\n",
    "f'나의 이름은 {d['name']}입니다. 나이는 {d['age']}입니다'\n",
    "\n",
    "# 숫자 포멧\n",
    "y=123456.23456\n",
    "f'{y:0.4f}' #소수점 4자리까지 표현\n",
    "f'{y:2.4f}' #소수점 4자리까지 정수 2자리까지 표현\n",
    "\n",
    "#포멧함수\n",
    "f1='{} 선수가 {}등입니다'.format('홍길동',1)\n",
    "print('%s 선수가 %d등입니다'%('홍길동',1))\n",
    "\n"
   ]
  },
  {
   "cell_type": "code",
   "execution_count": null,
   "id": "80c45949",
   "metadata": {},
   "outputs": [],
   "source": [
    "# 조건문 - if~elif~else\n",
    "i=5000; e=5000\n",
    "if i>e:\n",
    "    print('저축 증가')\n",
    "elif i<e:\n",
    "    print('빛이 증가')\n",
    "else:\n",
    "    print('현상유지')\n",
    "\n",
    "# 반복문 - for\n",
    "numbers=[5,15,20,25,30]\n",
    "for number in numbers:\n",
    "    print(number)\n",
    "\n",
    "# for~continue~break\n",
    "for i in range(1,11):\n",
    "    print(i, end=' ')\n",
    "    is i<5:\n",
    "        continue\n",
    "    else:\n",
    "        break\n",
    "        \n",
    "# 반복문 - while / 끝내려면 break를 사용하여 나온다\n",
    "x=1; sum=0\n",
    "while 2:\n",
    "    sum+=x\n",
    "    if sum>1000:\n",
    "        print(x)\n",
    "        print(sum)\n",
    "        break\n",
    "    x+=1\n",
    "# while 조건 / 조건이 만족할때까지 반복\n",
    "i=1; sum1=0\n",
    "while i<1000:\n",
    "    i+=1\n",
    "    if i%3==0:\n",
    "        sum+=i\n",
    "print(sum1)"
   ]
  }
 ],
 "metadata": {
  "hide_input": false,
  "kernelspec": {
   "display_name": "Python 3 (ipykernel)",
   "language": "python",
   "name": "python3"
  },
  "language_info": {
   "codemirror_mode": {
    "name": "ipython",
    "version": 3
   },
   "file_extension": ".py",
   "mimetype": "text/x-python",
   "name": "python",
   "nbconvert_exporter": "python",
   "pygments_lexer": "ipython3",
   "version": "3.10.10"
  },
  "toc": {
   "base_numbering": 1,
   "nav_menu": {},
   "number_sections": true,
   "sideBar": true,
   "skip_h1_title": false,
   "title_cell": "Table of Contents",
   "title_sidebar": "Contents",
   "toc_cell": false,
   "toc_position": {},
   "toc_section_display": true,
   "toc_window_display": false
  },
  "varInspector": {
   "cols": {
    "lenName": 16,
    "lenType": 16,
    "lenVar": 40
   },
   "kernels_config": {
    "python": {
     "delete_cmd_postfix": "",
     "delete_cmd_prefix": "del ",
     "library": "var_list.py",
     "varRefreshCmd": "print(var_dic_list())"
    },
    "r": {
     "delete_cmd_postfix": ") ",
     "delete_cmd_prefix": "rm(",
     "library": "var_list.r",
     "varRefreshCmd": "cat(var_dic_list()) "
    }
   },
   "types_to_exclude": [
    "module",
    "function",
    "builtin_function_or_method",
    "instance",
    "_Feature"
   ],
   "window_display": false
  }
 },
 "nbformat": 4,
 "nbformat_minor": 5
}
