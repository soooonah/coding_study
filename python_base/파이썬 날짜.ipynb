{
 "cells": [
  {
   "cell_type": "markdown",
   "id": "5832c7fd",
   "metadata": {},
   "source": [
    "날짜 처리\n",
    "time — 시간 액세스와 변환\n",
    "\n",
    "https://docs.python.org/ko/3/library/time.html\n",
    "\n",
    "- 포맷 코드 표\n",
    "- 포맷코드 설명 예\n",
    "- %a 요일 줄임말 Sun, Mon, ... Sat\n",
    "- %A 요일 Sunday, Monday, ..., Saturday\n",
    "- %w 요일을 숫자로 표시, 월요일일요일, 06 0, 1, ..., 6\n",
    "- %d 일 01, 02, ..., 31\n",
    "- %b 월 줄임말 Jan, Feb, ..., Dec\n",
    "- %B 월 January, February, …, December\n",
    "- %m 숫자 월 01, 02, ..., 12\n",
    "- %y 두 자릿수 연도 01, 02, ..., 99\n",
    "- %Y 네 자릿수 연도 0001, 0002, ..., 2017, 2018, 9999\n",
    "- %H 시간(24시간) 00, 01, ..., 23\n",
    "- %I 시간(12시간) 01, 02, ..., 12\n",
    "- %p AM, PM AM, PM\n",
    "- %M 분 00, 01, ..., 59\n",
    "- %S 초 00, 01, ..., 59\n",
    "- %Z 시간대 대한민국 표준시\n",
    "- %j 1월 1일부터 경과한 일수 001, 002, ..., 366\n",
    "- %U 1년중 주차, 월요일이 한 주의 시작으로 00, 01, ..., 53\n",
    "- %W 1년중 주차, 월요일이 한 주의 시작으로 00, 01, ..., 53\n",
    "- %c 날짜, 요일, 시간을 출력, 현재 시간대 기준 Sat May 19 11:14:27 2018\n",
    "- %x 날짜를 출력, 현재 시간대 기준 05/19/18\n",
    "- %X 시간을 출력, 현재 시간대 기준 '11:44:22'"
   ]
  },
  {
   "cell_type": "code",
   "execution_count": 4,
   "id": "e878e26c",
   "metadata": {},
   "outputs": [
    {
     "data": {
      "text/plain": [
       "'Tue May 16 16:29:53 2023'"
      ]
     },
     "execution_count": 4,
     "metadata": {},
     "output_type": "execute_result"
    }
   ],
   "source": [
    "import time\n",
    "time.time() #초단위로 출력 / 1684221977.7196386\n",
    "time.localtime(time.time()) #년/월/일/시/분/초 등 각각의 변수로 표현\n",
    "time.asctime(time.localtime(time.time())) #보기 쉽게 표현 / 'Tue May 16 16:27:35 2023'\n",
    "time.ctime() #현재 시간 / 'Tue May 16 16:29:53 2023'"
   ]
  },
  {
   "cell_type": "code",
   "execution_count": null,
   "id": "47b7c29c",
   "metadata": {},
   "outputs": [],
   "source": [
    "# 요일을 표현할때 / t.tm_wday는 숫자로 표현\n",
    "weekdays = ['월요일','화요일','수요일','목요일','금요일','토요일','일요일']\n",
    "t = time.localtime()\n",
    "print(t)\n",
    "today = '%d-%d-%d' %(t.tm_year,t.tm_mon,t.tm_mday)\n",
    "week = weekdays[t.tm_wday]\n",
    "print(f'{today} 오늘은 {week}입니다.')"
   ]
  },
  {
   "cell_type": "code",
   "execution_count": 5,
   "id": "a2e57516",
   "metadata": {},
   "outputs": [
    {
     "name": "stdout",
     "output_type": "stream",
     "text": [
      "0\n",
      "1\n",
      "2\n",
      "3\n",
      "4\n"
     ]
    }
   ],
   "source": [
    "# time.sleep() : 일정한 시간 간격을 두고 루프 실행\n",
    "for i in range(5):\n",
    "    print(i)\n",
    "    time.sleep(2)"
   ]
  },
  {
   "cell_type": "code",
   "execution_count": 8,
   "id": "e23a749e",
   "metadata": {},
   "outputs": [
    {
     "name": "stdout",
     "output_type": "stream",
     "text": [
      "   December 1996\n",
      "Mo Tu We Th Fr Sa Su\n",
      "                   1\n",
      " 2  3  4  5  6  7  8\n",
      " 9 10 11 12 13 14 15\n",
      "16 17 18 19 20 21 22\n",
      "23 24 25 26 27 28 29\n",
      "30 31\n",
      "None\n",
      "1\n"
     ]
    }
   ],
   "source": [
    "import calendar\n",
    "print(calendar.prmonth(1996,12)) #년/월 에 대한 달력 출력\n",
    "print(calendar.weekday(1996,12,31)) #요일출력(1 월 ~ 6 일)\n",
    "calendar.monthrange(1996,12) #1일의 요일. 날수"
   ]
  }
 ],
 "metadata": {
  "hide_input": false,
  "kernelspec": {
   "display_name": "Python 3 (ipykernel)",
   "language": "python",
   "name": "python3"
  },
  "language_info": {
   "codemirror_mode": {
    "name": "ipython",
    "version": 3
   },
   "file_extension": ".py",
   "mimetype": "text/x-python",
   "name": "python",
   "nbconvert_exporter": "python",
   "pygments_lexer": "ipython3",
   "version": "3.10.10"
  },
  "toc": {
   "base_numbering": 1,
   "nav_menu": {},
   "number_sections": true,
   "sideBar": true,
   "skip_h1_title": false,
   "title_cell": "Table of Contents",
   "title_sidebar": "Contents",
   "toc_cell": false,
   "toc_position": {},
   "toc_section_display": true,
   "toc_window_display": false
  },
  "varInspector": {
   "cols": {
    "lenName": 16,
    "lenType": 16,
    "lenVar": 40
   },
   "kernels_config": {
    "python": {
     "delete_cmd_postfix": "",
     "delete_cmd_prefix": "del ",
     "library": "var_list.py",
     "varRefreshCmd": "print(var_dic_list())"
    },
    "r": {
     "delete_cmd_postfix": ") ",
     "delete_cmd_prefix": "rm(",
     "library": "var_list.r",
     "varRefreshCmd": "cat(var_dic_list()) "
    }
   },
   "types_to_exclude": [
    "module",
    "function",
    "builtin_function_or_method",
    "instance",
    "_Feature"
   ],
   "window_display": false
  }
 },
 "nbformat": 4,
 "nbformat_minor": 5
}
