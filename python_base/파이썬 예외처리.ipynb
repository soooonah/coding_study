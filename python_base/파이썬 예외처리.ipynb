{
 "cells": [
  {
   "cell_type": "code",
   "execution_count": null,
   "id": "720e3a1a",
   "metadata": {},
   "outputs": [],
   "source": [
    "#구문 오류 : 프로그램 실행전에 발생하는 오류\n",
    "#예외 또는 런타임 오류 : 프로그램 실행중에 발생하는 오류\n",
    "\n",
    "print('구문오류로 인한 에러)"
   ]
  },
  {
   "cell_type": "code",
   "execution_count": null,
   "id": "80b206f9",
   "metadata": {},
   "outputs": [],
   "source": [
    "#정수를 입력하지 않은 경우 예외 발생\n",
    "num=int(input('정수입력 : '))\n",
    "print(num)"
   ]
  },
  {
   "cell_type": "code",
   "execution_count": null,
   "id": "ed696ec5",
   "metadata": {},
   "outputs": [],
   "source": [
    "# 조건문으로 예외처리\n",
    "num=input('정수입력 : ')\n",
    "if num.isdigit(): # isdigit()는 문자열이 숫자인지 아닌지 판단하는 함수\n",
    "    print(int(num))\n",
    "else:\n",
    "    print('정수아님')"
   ]
  },
  {
   "cell_type": "code",
   "execution_count": null,
   "id": "235b5fa4",
   "metadata": {},
   "outputs": [],
   "source": [
    "# 변수를 지정안하고 출력하는 오류\n",
    "print(p)"
   ]
  },
  {
   "cell_type": "code",
   "execution_count": null,
   "id": "298a5e2b",
   "metadata": {},
   "outputs": [],
   "source": [
    "# 예외 처리 - try~except\n",
    "try: #try실행시 예외발생 except실행\n",
    "    print('안녕하세여')\n",
    "    print(p)\n",
    "except:\n",
    "    print('예외 발생')"
   ]
  },
  {
   "cell_type": "code",
   "execution_count": null,
   "id": "73095c94",
   "metadata": {},
   "outputs": [],
   "source": [
    "# 예외 처리 - try~except~else\n",
    "try: #try실행시 예외발생 except실행 / 예외 발생 안되면 else실행\n",
    "    print('안녕하세여')\n",
    "except:\n",
    "    print('예외 발생')\n",
    "else:\n",
    "    print('정상')"
   ]
  },
  {
   "cell_type": "code",
   "execution_count": null,
   "id": "1c6cc444",
   "metadata": {},
   "outputs": [],
   "source": [
    "# 예외 처리 - try~except~else\n",
    "try: #try실행시 예외발생 except실행 / 예외 발생 안되면 else실행 / 다끝나면 finally실행\n",
    "    print('안녕하세여')\n",
    "except:\n",
    "    print('예외 발생')\n",
    "else:\n",
    "    print('정상')\n",
    "finally:\n",
    "    print('종료')"
   ]
  },
  {
   "cell_type": "code",
   "execution_count": null,
   "id": "4202251f",
   "metadata": {},
   "outputs": [],
   "source": [
    "# 코드에서 예외 발생 내용을 확인하고자 하는 경우 처리방법\n",
    "try:\n",
    "    print(p)\n",
    "except Exception as e: #예외이름\n",
    "    print(e)"
   ]
  },
  {
   "cell_type": "code",
   "execution_count": 2,
   "id": "a8c92d7f",
   "metadata": {},
   "outputs": [
    {
     "name": "stdout",
     "output_type": "stream",
     "text": [
      "1\n",
      "2\n",
      "3\n",
      "사용자에 의해 프로그램이 중단되었습니다.\n"
     ]
    }
   ],
   "source": [
    "#멈추는게 없음 무한루프\n",
    "# import time\n",
    "# count = 1\n",
    "# while True:\n",
    "#         print(count)\n",
    "#         count += 1\n",
    "#         time.sleep(0.5)\n",
    "        \n",
    "import time\n",
    "count = 1\n",
    "try:\n",
    "    \n",
    "    while True:\n",
    "        print(count)\n",
    "        count += 1\n",
    "        time.sleep(1)\n",
    "except KeyboardInterrupt: #강제 종료할때 나오는 오류\n",
    "    print('사용자에 의해 프로그램이 중단되었습니다.')"
   ]
  },
  {
   "cell_type": "code",
   "execution_count": null,
   "id": "af494914",
   "metadata": {},
   "outputs": [],
   "source": [
    "# 숫자만 출력하기\n",
    "list_input = ['52','273','32','문자','103']\n",
    "list_num = []\n",
    "for i in list_input:\n",
    "    try:\n",
    "        int(i) # 숫자가 아니면 오류발생\n",
    "        list_num.append(i)\n",
    "    except:\n",
    "        pass #오류발생하면 안하고 지나감\n",
    "print(list_num)"
   ]
  }
 ],
 "metadata": {
  "hide_input": false,
  "kernelspec": {
   "display_name": "Python 3 (ipykernel)",
   "language": "python",
   "name": "python3"
  },
  "language_info": {
   "codemirror_mode": {
    "name": "ipython",
    "version": 3
   },
   "file_extension": ".py",
   "mimetype": "text/x-python",
   "name": "python",
   "nbconvert_exporter": "python",
   "pygments_lexer": "ipython3",
   "version": "3.10.10"
  },
  "toc": {
   "base_numbering": 1,
   "nav_menu": {},
   "number_sections": true,
   "sideBar": true,
   "skip_h1_title": false,
   "title_cell": "Table of Contents",
   "title_sidebar": "Contents",
   "toc_cell": false,
   "toc_position": {},
   "toc_section_display": true,
   "toc_window_display": false
  },
  "varInspector": {
   "cols": {
    "lenName": 16,
    "lenType": 16,
    "lenVar": 40
   },
   "kernels_config": {
    "python": {
     "delete_cmd_postfix": "",
     "delete_cmd_prefix": "del ",
     "library": "var_list.py",
     "varRefreshCmd": "print(var_dic_list())"
    },
    "r": {
     "delete_cmd_postfix": ") ",
     "delete_cmd_prefix": "rm(",
     "library": "var_list.r",
     "varRefreshCmd": "cat(var_dic_list()) "
    }
   },
   "types_to_exclude": [
    "module",
    "function",
    "builtin_function_or_method",
    "instance",
    "_Feature"
   ],
   "window_display": false
  }
 },
 "nbformat": 4,
 "nbformat_minor": 5
}
