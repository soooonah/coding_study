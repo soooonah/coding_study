{
 "cells": [
  {
   "cell_type": "code",
   "execution_count": 1,
   "id": "68abdbab",
   "metadata": {},
   "outputs": [
    {
     "data": {
      "text/plain": [
       "1"
      ]
     },
     "execution_count": 1,
     "metadata": {},
     "output_type": "execute_result"
    }
   ],
   "source": [
    "# 입력값은 없고 결과값만 있는 사용자함수\n",
    "def say():\n",
    "    return 1\n",
    "print(say())\n",
    "\n",
    "# 입력값은 있고 결과값은 없는 함수\n",
    "# 결과값은 오직 return 명령어로만 돌려 받을 수 있음\n",
    "# return이 없으면 결과값은 none으로 나옴 \n",
    "def add(a,b):\n",
    "    print('합 : ',a+b)\n",
    "print(add(1,2))\n",
    "\n",
    "# 입력값도 결과값도 있는 함수\n",
    "def add1(a,b):\n",
    "    return a+b\n",
    "print(add1(1,3))\n",
    "\n",
    "# 입력값도 결과값도 없는 함수\n",
    "# 둘다 없으면 none값 출력X\n",
    "def say1():\n",
    "    print('hi')\n",
    "print(say1())"
   ]
  },
  {
   "cell_type": "code",
   "execution_count": null,
   "id": "5bed4fdb",
   "metadata": {},
   "outputs": [],
   "source": [
    "# 여러 개의 입력값을 받는 함수\n",
    "# *args 처럼 입력 변수명 앞에 * 를 붙이면 입력값들을 전부 모아서 튜플로 만들어 줌\n",
    "def add_many(*args):\n",
    "    add = 0\n",
    "    for i in args:\n",
    "        add += i\n",
    "    return add\n",
    "\n",
    "add_many(1,2,3,4,5,6,7,8,9,10)\n",
    "\n",
    "# 함수의 반환 값은 언제나 하나임 - 결과 값으로 튜플 값 하나를 갖게 됨\n",
    "def add_and_mul(a,b):\n",
    "    return a+b, a*b\n",
    "\n",
    "result = add_and_mul(3,4)\n",
    "print(result)\n",
    "\n",
    "# add_mul() 함수를 정의하여 1,2,3,4,5를 입력 값으로 적용하여 덧셈,곱셈 연산을 수행하세요.\n",
    "def add_mul(choice, *args):\n",
    "    \n",
    "    \n",
    "add_mul('add', 1,2,3,4,5)"
   ]
  },
  {
   "cell_type": "code",
   "execution_count": null,
   "id": "6bb2a9eb",
   "metadata": {},
   "outputs": [],
   "source": [
    "# 함수 안에서 선언된 변수의 효력 범위\n",
    "a = 1\n",
    "def vartest(a):    \n",
    "    a = a + 1\n",
    "    \n",
    "print(vartest(a)) # none / 출력값이 없어서\n",
    "print(a)\n",
    "\n",
    "# 함수 안에서 함수 밖의 변수를 변경하는 방법 - return 이용\n",
    "a = 1\n",
    "def vartest(a):\n",
    "    a =  a+1\n",
    "    return a\n",
    "a = vartest(a)\n",
    "print(a)\n",
    "\n",
    "# global 명령을 이용하는 방법\n",
    "a = 1\n",
    "def vartest():\n",
    "    global a\n",
    "    a = a + 1\n",
    "    \n",
    "vartest()\n",
    "print(a)"
   ]
  },
  {
   "cell_type": "code",
   "execution_count": null,
   "id": "e67fc866",
   "metadata": {},
   "outputs": [],
   "source": [
    "# 파일 읽고 쓰기\n",
    "f = open('test1.txt','w')\n",
    "for i in range(1,11):\n",
    "    data = '%d번째 줄입니다.\\n' %i\n",
    "    f.write(data)\n",
    "f.close()\n",
    "\n",
    "# 파일읽기 / 한줄\n",
    "f = open('test1.txt','r')\n",
    "line = f.readline()\n",
    "print(line)\n",
    "f.close()\n",
    "\n",
    "# 10줄까지 출력 - for\n",
    "f = open('test1.txt', 'r')\n",
    "for i in range(10):\n",
    "    line = f.readline()\n",
    "    print(line)\n",
    "f.close()\n",
    "\n",
    "# 모든 줄을 출력 - while\n",
    "f = open('test1.txt','r')\n",
    "while True:\n",
    "    line = f.readline()\n",
    "    if not line: break\n",
    "    print(line)\n",
    "f.close()\n",
    "\n",
    "# f.read()는 파일 내용 전체를 문자열로 반환\n",
    "f = open('test1.txt','r')\n",
    "data = f.read()\n",
    "print(data)\n",
    "f.close()\n",
    "\n",
    "# a로 하면 쓰여있는 문장 밑에 들여쓰기\n",
    "f = open('test1.txt', 'a')\n",
    "for i in range(11,16):\n",
    "    data = '%d번째 줄입니다.\\n' %i\n",
    "    f.write(data)\n",
    "f.close()"
   ]
  },
  {
   "cell_type": "code",
   "execution_count": null,
   "id": "286b124e",
   "metadata": {},
   "outputs": [],
   "source": [
    "# with문과 같이 사용 / 자동으로 닫힘\n",
    "with open('foo.txt','w') as f:\n",
    "    f.write('파이썬을 배웁시다.')"
   ]
  },
  {
   "cell_type": "markdown",
   "id": "985bb873",
   "metadata": {},
   "source": [
    "내장함수, 외장함수\n",
    "\n",
    "https://codedrive.tistory.com/91"
   ]
  },
  {
   "cell_type": "code",
   "execution_count": null,
   "id": "4830f40d",
   "metadata": {},
   "outputs": [],
   "source": [
    "# 내장함수\n",
    "print(abs(-3))\n",
    "print(all([1,2,3,0])) # x가 모두 참이면 True, 거짓이 하나라도 있으면 False\n",
    "print(any([1,2,3,0])) # x가 하나라도 참이면 True, 모두 거짓이면 False\n",
    "print(chr(65))\n",
    "\n",
    "sum = lambda a,b:a+b\n",
    "sum(3,4)"
   ]
  }
 ],
 "metadata": {
  "hide_input": false,
  "kernelspec": {
   "display_name": "Python 3 (ipykernel)",
   "language": "python",
   "name": "python3"
  },
  "language_info": {
   "codemirror_mode": {
    "name": "ipython",
    "version": 3
   },
   "file_extension": ".py",
   "mimetype": "text/x-python",
   "name": "python",
   "nbconvert_exporter": "python",
   "pygments_lexer": "ipython3",
   "version": "3.10.10"
  },
  "toc": {
   "base_numbering": 1,
   "nav_menu": {},
   "number_sections": true,
   "sideBar": true,
   "skip_h1_title": false,
   "title_cell": "Table of Contents",
   "title_sidebar": "Contents",
   "toc_cell": false,
   "toc_position": {},
   "toc_section_display": true,
   "toc_window_display": false
  },
  "varInspector": {
   "cols": {
    "lenName": 16,
    "lenType": 16,
    "lenVar": 40
   },
   "kernels_config": {
    "python": {
     "delete_cmd_postfix": "",
     "delete_cmd_prefix": "del ",
     "library": "var_list.py",
     "varRefreshCmd": "print(var_dic_list())"
    },
    "r": {
     "delete_cmd_postfix": ") ",
     "delete_cmd_prefix": "rm(",
     "library": "var_list.r",
     "varRefreshCmd": "cat(var_dic_list()) "
    }
   },
   "types_to_exclude": [
    "module",
    "function",
    "builtin_function_or_method",
    "instance",
    "_Feature"
   ],
   "window_display": false
  }
 },
 "nbformat": 4,
 "nbformat_minor": 5
}
